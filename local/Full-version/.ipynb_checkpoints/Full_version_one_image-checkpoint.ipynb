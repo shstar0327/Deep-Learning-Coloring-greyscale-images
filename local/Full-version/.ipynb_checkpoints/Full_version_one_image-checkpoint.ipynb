{
 "cells": [
  {
   "cell_type": "code",
   "execution_count": 1,
   "metadata": {},
   "outputs": [
    {
     "name": "stderr",
     "output_type": "stream",
     "text": [
      "Using TensorFlow backend.\n"
     ]
    }
   ],
   "source": [
    "import keras"
   ]
  },
  {
   "cell_type": "code",
   "execution_count": 2,
   "metadata": {},
   "outputs": [
    {
     "name": "stdout",
     "output_type": "stream",
     "text": [
      "keras:  2.0.8\n"
     ]
    }
   ],
   "source": [
    "print('keras: ', keras.__version__)"
   ]
  },
  {
   "cell_type": "code",
   "execution_count": 3,
   "metadata": {
    "collapsed": true
   },
   "outputs": [],
   "source": [
    "import keras\n",
    "from keras.applications.inception_resnet_v2 import InceptionResNetV2\n",
    "from keras.preprocessing import image\n",
    "from keras.engine import Layer\n",
    "from keras.applications.inception_resnet_v2 import preprocess_input\n",
    "from keras.layers import Conv2D, UpSampling2D, InputLayer, Conv2DTranspose, Input, Reshape, merge, concatenate\n",
    "from keras.layers import Activation, Dense, Dropout, Flatten\n",
    "from keras.layers.normalization import BatchNormalization\n",
    "from keras.models import Sequential, Model\n",
    "from keras.layers.core import RepeatVector, Permute\n",
    "from keras.preprocessing.image import ImageDataGenerator, array_to_img, img_to_array, load_img\n",
    "from skimage.color import rgb2lab, lab2rgb, rgb2gray, xyz2lab\n",
    "from skimage.io import imsave\n",
    "import numpy as np\n",
    "import numpy as np\n",
    "import os\n",
    "import random\n",
    "import tensorflow as tf"
   ]
  },
  {
   "cell_type": "code",
   "execution_count": 4,
   "metadata": {
    "collapsed": true
   },
   "outputs": [],
   "source": [
    "# Get images\n",
    "image_raw = img_to_array(load_img('dog.jpg'))\n",
    "image_raw = np.array(image_raw, dtype=float)\n",
    "#Load weights\n",
    "inception = InceptionResNetV2(weights='imagenet', include_top=True)"
   ]
  },
  {
   "cell_type": "code",
   "execution_count": 5,
   "metadata": {
    "collapsed": true
   },
   "outputs": [],
   "source": [
    "X = rgb2lab(1.0/255*image_raw)[:,:,0]\n",
    "Y = rgb2lab(1.0/255*image_raw)[:,:,1:]\n",
    "Y /= 128\n",
    "X = X.reshape(1, 256, 256, 1)\n",
    "Y = Y.reshape(1, 256, 256, 2)"
   ]
  },
  {
   "cell_type": "code",
   "execution_count": 6,
   "metadata": {},
   "outputs": [],
   "source": [
    "def conv_stack(data, filters, s):\n",
    "        output = Conv2D(filters, (3, 3), strides=s, activation='relu', padding='same')(data)\n",
    "        output = BatchNormalization()(output)\n",
    "        return output\n",
    "\n",
    "#Create inception embedding\n",
    "img_path = 'dog.jpg'\n",
    "img = image.load_img(img_path, target_size=(299, 299))\n",
    "img = image.img_to_array(img)\n",
    "img = np.expand_dims(img, axis=0)\n",
    "img = preprocess_input(img)\n",
    "embed = inception.predict(img)\n",
    "embed_input = Input(shape=(1000,))\n",
    "\n",
    "#Encoder\n",
    "encoder_input = Input(shape=(256, 256, 1,))\n",
    "encoder_output = conv_stack(encoder_input, 64, 2)\n",
    "encoder_output = conv_stack(encoder_output, 128, 2)\n",
    "encoder_output = conv_stack(encoder_output, 256, 2)\n",
    "encoder_output = conv_stack(encoder_output, 512, 1)\n",
    "encoder_output = conv_stack(encoder_output, 256, 1)\n",
    "\n",
    "#Fusion\n",
    "# y_mid: (None, 256, 28, 28)\n",
    "fusion_output = RepeatVector(32 * 32)(embed_input) \n",
    "fusion_output = Permute((2, 1))(fusion_output) \n",
    "fusion_output = Reshape(([32, 32, 1000]))(fusion_output)\n",
    "fusion_output = concatenate([fusion_output, encoder_output], axis=3) \n",
    "fusion_output = Conv2D(256, (1, 1), activation='relu')(fusion_output) \n",
    "\n",
    "#Decoder\n",
    "decoder_output = UpSampling2D((2, 2))(fusion_output)\n",
    "decoder_output = conv_stack(decoder_output, 128, 1)\n",
    "decoder_output = conv_stack(decoder_output, 64, 1)\n",
    "decoder_output = UpSampling2D((2, 2))(decoder_output)\n",
    "decoder_output = conv_stack(decoder_output, 32, 1)\n",
    "decoder_output = conv_stack(decoder_output, 16, 1)\n",
    "decoder_output = Conv2D(2, (2, 2), activation='tanh', padding='same')(decoder_output)\n",
    "decoder_output = UpSampling2D((2, 2))(decoder_output)\n",
    "\n",
    "model = Model(inputs=[encoder_input, embed_input], outputs=decoder_output)"
   ]
  },
  {
   "cell_type": "code",
   "execution_count": null,
   "metadata": {},
   "outputs": [
    {
     "name": "stdout",
     "output_type": "stream",
     "text": [
      "Epoch 1/1000\n",
      "1/1 [==============================] - 4s - loss: 0.4489\n",
      "Epoch 2/1000\n",
      "1/1 [==============================] - 0s - loss: 0.2836\n",
      "Epoch 3/1000\n",
      "1/1 [==============================] - 0s - loss: 0.2287\n",
      "Epoch 4/1000\n",
      "1/1 [==============================] - 0s - loss: 0.1272\n",
      "Epoch 5/1000\n",
      "1/1 [==============================] - 0s - loss: 0.1087\n",
      "Epoch 6/1000\n",
      "1/1 [==============================] - 0s - loss: 0.0749\n",
      "Epoch 7/1000\n",
      "1/1 [==============================] - 0s - loss: 0.0439\n",
      "Epoch 8/1000\n",
      "1/1 [==============================] - 0s - loss: 0.0335\n",
      "Epoch 9/1000\n",
      "1/1 [==============================] - 0s - loss: 0.0338\n",
      "Epoch 10/1000\n",
      "1/1 [==============================] - 0s - loss: 0.0284\n",
      "Epoch 11/1000\n",
      "1/1 [==============================] - 0s - loss: 0.0267\n",
      "Epoch 12/1000\n",
      "1/1 [==============================] - 0s - loss: 0.0256\n",
      "Epoch 13/1000\n",
      "1/1 [==============================] - 0s - loss: 0.0272\n",
      "Epoch 14/1000\n",
      "1/1 [==============================] - 0s - loss: 0.0248\n",
      "Epoch 15/1000\n",
      "1/1 [==============================] - 0s - loss: 0.0228\n",
      "Epoch 16/1000\n",
      "1/1 [==============================] - 0s - loss: 0.0188\n",
      "Epoch 17/1000\n",
      "1/1 [==============================] - 0s - loss: 0.0186\n",
      "Epoch 18/1000\n",
      "1/1 [==============================] - 0s - loss: 0.0179\n",
      "Epoch 19/1000\n",
      "1/1 [==============================] - 0s - loss: 0.0164\n",
      "Epoch 20/1000\n",
      "1/1 [==============================] - 0s - loss: 0.0144\n",
      "Epoch 21/1000\n",
      "1/1 [==============================] - 0s - loss: 0.0144\n",
      "Epoch 22/1000\n",
      "1/1 [==============================] - 0s - loss: 0.0137\n",
      "Epoch 23/1000\n",
      "1/1 [==============================] - 0s - loss: 0.0137\n",
      "Epoch 24/1000\n",
      "1/1 [==============================] - 0s - loss: 0.0116\n",
      "Epoch 25/1000\n",
      "1/1 [==============================] - 0s - loss: 0.0121\n",
      "Epoch 26/1000\n",
      "1/1 [==============================] - 0s - loss: 0.0108\n",
      "Epoch 27/1000\n",
      "1/1 [==============================] - 0s - loss: 0.0115\n",
      "Epoch 28/1000\n",
      "1/1 [==============================] - 0s - loss: 0.0097\n",
      "Epoch 29/1000\n",
      "1/1 [==============================] - 0s - loss: 0.0124\n",
      "Epoch 30/1000\n",
      "1/1 [==============================] - 0s - loss: 0.0144\n",
      "Epoch 31/1000\n",
      "1/1 [==============================] - 0s - loss: 0.0174\n",
      "Epoch 32/1000\n",
      "1/1 [==============================] - 0s - loss: 0.0095\n",
      "Epoch 33/1000\n",
      "1/1 [==============================] - 0s - loss: 0.0110\n",
      "Epoch 34/1000\n",
      "1/1 [==============================] - 0s - loss: 0.0112\n",
      "Epoch 35/1000\n",
      "1/1 [==============================] - 0s - loss: 0.0089\n",
      "Epoch 36/1000\n",
      "1/1 [==============================] - 0s - loss: 0.0076\n",
      "Epoch 37/1000\n",
      "1/1 [==============================] - 0s - loss: 0.0075\n",
      "Epoch 38/1000\n",
      "1/1 [==============================] - 0s - loss: 0.0074\n",
      "Epoch 39/1000\n",
      "1/1 [==============================] - 0s - loss: 0.0085\n",
      "Epoch 40/1000\n",
      "1/1 [==============================] - 0s - loss: 0.0080\n",
      "Epoch 41/1000\n",
      "1/1 [==============================] - 0s - loss: 0.0078\n",
      "Epoch 42/1000\n",
      "1/1 [==============================] - 0s - loss: 0.0044\n",
      "Epoch 43/1000\n",
      "1/1 [==============================] - 0s - loss: 0.0050\n",
      "Epoch 44/1000\n",
      "1/1 [==============================] - 0s - loss: 0.0060\n",
      "Epoch 45/1000\n",
      "1/1 [==============================] - 0s - loss: 0.0040\n",
      "Epoch 46/1000\n",
      "1/1 [==============================] - 0s - loss: 0.0039\n",
      "Epoch 47/1000\n",
      "1/1 [==============================] - 0s - loss: 0.0050\n",
      "Epoch 48/1000\n",
      "1/1 [==============================] - 0s - loss: 0.0048\n",
      "Epoch 49/1000\n",
      "1/1 [==============================] - 0s - loss: 0.0068\n",
      "Epoch 50/1000\n",
      "1/1 [==============================] - 0s - loss: 0.0062\n",
      "Epoch 51/1000\n",
      "1/1 [==============================] - 0s - loss: 0.0116\n",
      "Epoch 52/1000\n",
      "1/1 [==============================] - 0s - loss: 0.0102\n",
      "Epoch 53/1000\n",
      "1/1 [==============================] - 0s - loss: 0.0122\n",
      "Epoch 54/1000\n",
      "1/1 [==============================] - 0s - loss: 0.0070\n",
      "Epoch 55/1000\n",
      "1/1 [==============================] - 0s - loss: 0.0069\n",
      "Epoch 56/1000\n",
      "1/1 [==============================] - 0s - loss: 0.0093\n",
      "Epoch 57/1000\n"
     ]
    }
   ],
   "source": [
    "# Finish model\n",
    "model.compile(optimizer='rmsprop', loss='mse')\n",
    "model.fit([X, embed], Y,\n",
    "    batch_size=1,\n",
    "    epochs=1000)"
   ]
  },
  {
   "cell_type": "code",
   "execution_count": null,
   "metadata": {},
   "outputs": [],
   "source": [
    "output = model.predict([X, embed])\n",
    "output *= 128\n",
    "# Output colorizations\n",
    "cur = np.zeros((256, 256, 3))\n",
    "cur[:,:,0] = X[0][:,:,0]\n",
    "cur[:,:,1:] = output[0]\n",
    "imsave(\"img_result.png\", lab2rgb(cur))\n",
    "imsave(\"img_gray_version.png\", rgb2gray(lab2rgb(cur)))"
   ]
  },
  {
   "cell_type": "code",
   "execution_count": null,
   "metadata": {
    "collapsed": true
   },
   "outputs": [],
   "source": [
    "#embed_output = UpSampling2D((2, 2))(embed_input)\n",
    "#embed_output = UpSampling2D((2, 2))(embed_input)\n",
    "# embed_output= Conv2D(512, (3, 3), activation=\"relu\", strides=2)(embed_input)\n",
    "# embed_output= Conv2D(512, (3, 3), activation=\"relu\", strides=2)(embed_output)\n",
    "# embed_output = Dense(1024, activation='relu')(embed_output)\n",
    "# embed_output = Dense(512, activation='relu')(embed_output)\n",
    "# embed_output = Dense(256, activation='relu')(embed_output)\n",
    "# embed_output = Reshape(([256,]))(embed_output)"
   ]
  },
  {
   "cell_type": "code",
   "execution_count": null,
   "metadata": {
    "collapsed": true
   },
   "outputs": [],
   "source": []
  }
 ],
 "metadata": {
  "kernelspec": {
   "display_name": "Python 3",
   "language": "python",
   "name": "python3"
  },
  "language_info": {
   "codemirror_mode": {
    "name": "ipython",
    "version": 3
   },
   "file_extension": ".py",
   "mimetype": "text/x-python",
   "name": "python",
   "nbconvert_exporter": "python",
   "pygments_lexer": "ipython3",
   "version": "3.6.1"
  }
 },
 "nbformat": 4,
 "nbformat_minor": 2
}
