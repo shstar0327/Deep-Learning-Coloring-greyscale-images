{
 "cells": [
  {
   "cell_type": "code",
   "execution_count": null,
   "metadata": {
    "collapsed": true
   },
   "outputs": [],
   "source": [
    "from keras.layers import Convolution2D, UpSampling2D\n",
    "from keras.layers import Activation, Dense, Dropout, Flatten\n",
    "from keras.layers.normalization import BatchNormalization\n",
    "from keras.callbacks import TensorBoard\n",
    "from keras.models import Sequential\n",
    "from keras.preprocessing.image import ImageDataGenerator, array_to_img, img_to_array, load_img\n",
    "from skimage.color import rgb2lab, lab2rgb, rgb2gray\n",
    "from skimage.io import imsave\n",
    "import numpy as np\n",
    "import os\n",
    "import random\n",
    "import tensorflow as tf\n",
    "\n",
    "tf.python.control_flow_ops = t"
   ]
  },
  {
   "cell_type": "code",
   "execution_count": null,
   "metadata": {
    "collapsed": true
   },
   "outputs": [],
   "source": [
    "# Image transformer\n",
    "datagen = ImageDataGenerator(\n",
    "        shear_range=0.2,\n",
    "        zoom_range=0.2,\n",
    "        rotation_range=20,\n",
    "        horizontal_flip=True)\n",
    "\n",
    "# Get images\n",
    "X = []\n",
    "for filename in os.listdir('Color/Train/'):\n",
    "\tX.append(img_to_array(load_img('face_images/'+filename)))\n",
    "X = np.array(X)\n",
    "\n",
    "color_me = []\n",
    "for filename in os.listdir('/Color/Test/'):\n",
    "\tcolor_me.append(img_to_array(load_img('face_images/'+filename)))\n",
    "color_me = np.array(color_me)\n",
    "color_me = rgb2lab(1.0/255*color_me)[:,:,:,0]\n",
    "color_me = color_me.reshape(color_me.shape+(1,))\n",
    "\n",
    "# Set up train and test data\n",
    "split = int(0.9*len(X))\n",
    "Xtrain = X[:split]\n",
    "Xtest = rgb2lab(1.0/255*X[split:])[:,:,:,0]\n",
    "Xtest = Xtest.reshape(Xtest.shape+(1,))\n",
    "Ytest = rgb2lab(1.0/255*X[split:])[:,:,:,1:]"
   ]
  },
  {
   "cell_type": "code",
   "execution_count": null,
   "metadata": {
    "collapsed": true
   },
   "outputs": [],
   "source": [
    "def conv_stack(filters, d, strides):\n",
    "    for i in strides:\n",
    "        model.add(Conv2D(filters, (3, 3), strides=i, activation='relu', dilation_rate=d, padding='same'))\n",
    "        model.add(BatchNormalization())\n",
    "\n",
    "def upsampling_stack(filters):\n",
    "    for i in filters:\n",
    "        model.add(Conv2DTranspose(i, (3, 3), strides=(2, 2), activation='relu', padding='same'))\n",
    "        conv_stack(i, 1, [1, 1])\n",
    "        model.add(BatchNormalization())\n",
    "\n",
    "model = Sequential()\n",
    "model.add(InputLayer(input_shape=(None, None, 1)))\n",
    "\n",
    "conv_stack(8, 1, [1, 2])\n",
    "conv_stack(16, 1, [1, 2, 2])\n",
    "conv_stack(32, 2, [1, 1, 1, 1, 1, 1])\n",
    "upsampling_stack([32, 16, 8])\n",
    "conv_stack(4, 1, [1, 1, 1])\n",
    "conv_stack(2, 1, [1])"
   ]
  },
  {
   "cell_type": "code",
   "execution_count": null,
   "metadata": {
    "collapsed": true
   },
   "outputs": [],
   "source": [
    "# Finish model\n",
    "model.compile(optimizer='rmsprop', loss='mse')\n",
    "\n",
    "# Generate training data\n",
    "batch_size = 100\n",
    "def image_a_b_gen(batch_size):\n",
    "\tfor batch in datagen.flow(Xtrain, batch_size=batch_size):\n",
    "\t\tif batch == None:\n",
    "\t\t\tbreak\t\t\n",
    "\t\tlab_batch = rgb2lab(batch)\n",
    "\t\tX_batch = lab_batch[:,:,:,0]\n",
    "\t\tY_batch = lab_batch[:,:,:,1:]\n",
    "\t\tyield (X_batch.reshape(X_batch.shape+(1,)), Y_batch)\n",
    "\n",
    "\n",
    "# Train model\n",
    "TensorBoard(log_dir='/output')\n",
    "model.fit_generator(\n",
    "\timage_a_b_gen(batch_size),\n",
    "\tsamples_per_epoch=1000,\n",
    "\tnb_epoch=15)\n",
    "\n",
    "model_json = model.to_json()\n",
    "with open(\"model.json\", \"w\") as json_file:\n",
    "    json_file.write(model_json)\n",
    "model.save_weights(\"model.h5\")"
   ]
  },
  {
   "cell_type": "code",
   "execution_count": null,
   "metadata": {
    "collapsed": true
   },
   "outputs": [],
   "source": [
    "# Test model\n",
    "print model.evaluate(Xtest, Ytest, batch_size=batch_size)\n",
    "output = model.predict(color_me)\n",
    "\n",
    "# Output colorizations\n",
    "for i in range(len(output)):\n",
    "\tcur = np.zeros((128, 128, 3))\n",
    "\tcur[:,:,0] = Xtest[i][:,:,0]\n",
    "\tcur[:,:,1:] = output[i]\n",
    "\timsave(\"colorizations/img_\"+str(i)+\".png\", lab2rgb(cur))\n",
    "\timsave(\"colorizations/img_gray_\"+str(i)+\".png\", rgb2gray(lab2rgb(cur)))"
   ]
  }
 ],
 "metadata": {
  "kernelspec": {
   "display_name": "Python 3",
   "language": "python",
   "name": "python3"
  },
  "language_info": {
   "codemirror_mode": {
    "name": "ipython",
    "version": 3
   },
   "file_extension": ".py",
   "mimetype": "text/x-python",
   "name": "python",
   "nbconvert_exporter": "python",
   "pygments_lexer": "ipython3",
   "version": "3.6.1"
  }
 },
 "nbformat": 4,
 "nbformat_minor": 2
}
