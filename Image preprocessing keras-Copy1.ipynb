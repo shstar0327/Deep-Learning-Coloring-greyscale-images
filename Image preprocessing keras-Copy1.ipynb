{
 "cells": [
  {
   "cell_type": "code",
   "execution_count": 1,
   "metadata": {},
   "outputs": [],
   "source": [
    "import tensorflow as tf\n",
    "# Remember to generate a file name queue of you 'train.TFRecord' file path\n",
    "def read_and_decode(filename_queue):\n",
    "  reader = tf.TFRecordReader()\n",
    "  _, serialized_example = reader.read(filename_queue)\n",
    "  features = tf.parse_single_example(\n",
    "    serialized_example,\n",
    "    dense_keys=['image_raw', 'label'],\n",
    "    # Defaults are not specified since both keys are required.\n",
    "    dense_types=[tf.string, tf.int64])\n",
    "\n",
    "  # Convert from a scalar string tensor (whose single string has\n",
    "  image = tf.decode_raw(features['image_raw'], tf.uint8)\n",
    "\n",
    "  image = tf.reshape(image, [my_cifar.n_input])\n",
    "  image.set_shape([my_cifar.n_input])\n",
    "\n",
    "  # OPTIONAL: Could reshape into a 28x28 image and apply distortions\n",
    "  # here.  Since we are not applying any distortions in this\n",
    "  # example, and the next step expects the image to be flattened\n",
    "  # into a vector, we don't bother.\n",
    "\n",
    "  # Convert from [0, 255] -> [-0.5, 0.5] floats.\n",
    "  image = tf.cast(image, tf.float32)\n",
    "  image = tf.cast(image, tf.float32) * (1. / 255) - 0.5\n",
    "\n",
    "  # Convert label from a scalar uint8 tensor to an int32 scalar.\n",
    "  label = tf.cast(features['label'], tf.int32)\n",
    "\n",
    "  return image, label"
   ]
  },
  {
   "cell_type": "code",
   "execution_count": null,
   "metadata": {
    "collapsed": true
   },
   "outputs": [],
   "source": []
  },
  {
   "cell_type": "code",
   "execution_count": null,
   "metadata": {
    "collapsed": true
   },
   "outputs": [],
   "source": []
  }
 ],
 "metadata": {
  "kernelspec": {
   "display_name": "color_dc",
   "language": "python",
   "name": "color_dc"
  },
  "language_info": {
   "codemirror_mode": {
    "name": "ipython",
    "version": 3
   },
   "file_extension": ".py",
   "mimetype": "text/x-python",
   "name": "python",
   "nbconvert_exporter": "python",
   "pygments_lexer": "ipython3",
   "version": "3.6.1"
  }
 },
 "nbformat": 4,
 "nbformat_minor": 2
}
