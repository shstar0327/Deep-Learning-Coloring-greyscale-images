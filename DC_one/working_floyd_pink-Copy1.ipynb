{
 "cells": [
  {
   "cell_type": "code",
   "execution_count": 1,
   "metadata": {},
   "outputs": [
    {
     "name": "stderr",
     "output_type": "stream",
     "text": [
      "Using TensorFlow backend.\n"
     ]
    }
   ],
   "source": [
    "from keras.layers import Conv2D, UpSampling2D, InputLayer, Conv2DTranspose\n",
    "from keras.layers import Activation, Dense, Dropout, Flatten\n",
    "from keras.layers.normalization import BatchNormalization\n",
    "from keras.models import Sequential\n",
    "from keras.preprocessing.image import ImageDataGenerator, array_to_img, img_to_array, load_img\n",
    "from skimage.color import rgb2lab, lab2rgb, rgb2gray, xyz2lab\n",
    "from skimage.io import imsave\n",
    "import numpy as np\n",
    "import os\n",
    "import random\n",
    "import tensorflow as tf\n",
    "%matplotlib inline\n",
    "\n",
    "#np.set_printoptions(threshold=np.inf)\n",
    "\n",
    "import matplotlib\n",
    "import matplotlib.pyplot as plt"
   ]
  },
  {
   "cell_type": "code",
   "execution_count": 2,
   "metadata": {
    "collapsed": true
   },
   "outputs": [],
   "source": [
    "# Get images\n",
    "image = img_to_array(load_img('pinkfloyd.jpg'))\n",
    "image = np.array(image, dtype=float)"
   ]
  },
  {
   "cell_type": "code",
   "execution_count": 3,
   "metadata": {},
   "outputs": [],
   "source": [
    "X = rgb2lab(1.0/255*image)[:,:,0]\n",
    "Y = rgb2lab(1.0/255*image)[:,:,1:]\n",
    "X = X.reshape(1, 300, 300, 1)\n",
    "Y = Y.reshape(1, 300, 300, 2)"
   ]
  },
  {
   "cell_type": "code",
   "execution_count": 4,
   "metadata": {},
   "outputs": [],
   "source": [
    "def conv_stack(filters, d, strides):\n",
    "    for i in strides:\n",
    "        model.add(Conv2D(filters, (3, 3), strides=i, activation='relu', dilation_rate=d, padding='same'))\n",
    "\n",
    "def upsampling_stack(filters):\n",
    "    for i in filters:\n",
    "        model.add(Conv2DTranspose(i, (3, 3), strides=(2, 2), activation='relu', padding='same'))\n",
    "        conv_stack(i, 1, [1, 1])\n",
    "        \n",
    "def conv_bug(filters, d, strides):\n",
    "    for i in strides:\n",
    "        model.add(Conv2D(filters, (3, 3), strides=i, activation='relu', dilation_rate=d))\n",
    "\n",
    "model = Sequential()\n",
    "model.add(InputLayer(input_shape=(None, None, 1)))\n",
    "\n",
    "conv_stack(8, 1, [1, 2])\n",
    "conv_stack(16, 1, [1, 1, 2])\n",
    "conv_stack(32, 1, [1, 1, 2])\n",
    "conv_stack(64, 2, [1, 1, 1, 1, 1, 1])\n",
    "upsampling_stack([128, 64, 32])\n",
    "conv_stack(16, 1, [1, 1, 1])\n",
    "conv_stack(8, 1, [1, 1, 1])\n",
    "conv_bug(2, 2, [1])\n",
    "\n",
    "\n",
    "\n",
    "#upsampling_stack([16, 8, 4])"
   ]
  },
  {
   "cell_type": "code",
   "execution_count": null,
   "metadata": {
    "collapsed": true
   },
   "outputs": [],
   "source": [
    "# Finish model\n",
    "model.compile(optimizer='rmsprop',\n",
    "\t\t\tloss='mse')"
   ]
  },
  {
   "cell_type": "code",
   "execution_count": null,
   "metadata": {},
   "outputs": [
    {
     "name": "stdout",
     "output_type": "stream",
     "text": [
      "Epoch 1/1000\n",
      "1/1 [==============================] - 2s - loss: 42.1781\n",
      "Epoch 2/1000\n",
      "1/1 [==============================] - 1s - loss: 42.1761\n",
      "Epoch 3/1000\n",
      "1/1 [==============================] - 1s - loss: 10879.1885\n",
      "Epoch 4/1000\n",
      "1/1 [==============================] - 1s - loss: 42.1764\n",
      "Epoch 5/1000\n",
      "1/1 [==============================] - 1s - loss: 42.1763\n",
      "Epoch 6/1000\n",
      "1/1 [==============================] - 1s - loss: 42.1763\n",
      "Epoch 7/1000\n",
      "1/1 [==============================] - 1s - loss: 42.1762\n",
      "Epoch 8/1000\n",
      "1/1 [==============================] - 1s - loss: 42.1762\n",
      "Epoch 9/1000\n",
      "1/1 [==============================] - 1s - loss: 42.1760\n",
      "Epoch 10/1000\n",
      "1/1 [==============================] - 1s - loss: 42.1758\n",
      "Epoch 11/1000\n",
      "1/1 [==============================] - 1s - loss: 42.1751\n",
      "Epoch 12/1000\n",
      "1/1 [==============================] - 1s - loss: 42.1739\n",
      "Epoch 13/1000\n",
      "1/1 [==============================] - 1s - loss: 42.1713\n",
      "Epoch 14/1000\n",
      "1/1 [==============================] - 1s - loss: 42.1652\n",
      "Epoch 15/1000\n",
      "1/1 [==============================] - 1s - loss: 42.1531\n",
      "Epoch 16/1000\n",
      "1/1 [==============================] - 1s - loss: 42.1346\n",
      "Epoch 17/1000\n",
      "1/1 [==============================] - 1s - loss: 42.1214\n",
      "Epoch 18/1000\n",
      "1/1 [==============================] - 1s - loss: 42.1221\n",
      "Epoch 19/1000\n",
      "1/1 [==============================] - 1s - loss: 42.1115\n",
      "Epoch 20/1000\n",
      "1/1 [==============================] - 1s - loss: 42.1188\n",
      "Epoch 21/1000\n",
      "1/1 [==============================] - 1s - loss: 42.0872\n",
      "Epoch 22/1000\n",
      "1/1 [==============================] - 1s - loss: 42.0616\n",
      "Epoch 23/1000\n",
      "1/1 [==============================] - 1s - loss: 42.0253\n",
      "Epoch 24/1000\n",
      "1/1 [==============================] - 1s - loss: 41.9879\n",
      "Epoch 25/1000\n",
      "1/1 [==============================] - 1s - loss: 42.8922\n",
      "Epoch 26/1000\n",
      "1/1 [==============================] - 1s - loss: 42.1066\n",
      "Epoch 27/1000\n",
      "1/1 [==============================] - 1s - loss: 42.0078\n",
      "Epoch 28/1000\n",
      "1/1 [==============================] - 1s - loss: 41.9755\n",
      "Epoch 29/1000\n",
      "1/1 [==============================] - 2s - loss: 41.9490\n",
      "Epoch 30/1000\n",
      "1/1 [==============================] - 1s - loss: 41.9084\n",
      "Epoch 31/1000\n",
      "1/1 [==============================] - 1s - loss: 41.8485\n",
      "Epoch 32/1000\n",
      "1/1 [==============================] - 1s - loss: 41.7614\n",
      "Epoch 33/1000\n",
      "1/1 [==============================] - 1s - loss: 41.7785\n",
      "Epoch 34/1000\n",
      "1/1 [==============================] - 1s - loss: 43.3048\n",
      "Epoch 35/1000\n",
      "1/1 [==============================] - 1s - loss: 41.9145\n",
      "Epoch 36/1000\n",
      "1/1 [==============================] - 1s - loss: 41.8527\n",
      "Epoch 37/1000\n",
      "1/1 [==============================] - 1s - loss: 41.8059\n",
      "Epoch 38/1000\n",
      "1/1 [==============================] - 1s - loss: 41.7453\n",
      "Epoch 39/1000\n",
      "1/1 [==============================] - 1s - loss: 41.6474\n",
      "Epoch 40/1000\n",
      "1/1 [==============================] - 1s - loss: 41.4926\n",
      "Epoch 41/1000\n",
      "1/1 [==============================] - 1s - loss: 41.3543\n",
      "Epoch 42/1000\n",
      "1/1 [==============================] - 1s - loss: 42.1771\n",
      "Epoch 43/1000\n",
      "1/1 [==============================] - 1s - loss: 42.1748\n",
      "Epoch 44/1000\n",
      "1/1 [==============================] - 1s - loss: 42.1728\n",
      "Epoch 45/1000\n",
      "1/1 [==============================] - 1s - loss: 42.1711\n",
      "Epoch 46/1000\n",
      "1/1 [==============================] - 1s - loss: 42.1635\n",
      "Epoch 47/1000\n",
      "1/1 [==============================] - 1s - loss: 42.1588\n",
      "Epoch 48/1000\n",
      "1/1 [==============================] - 1s - loss: 42.1495\n",
      "Epoch 49/1000\n",
      "1/1 [==============================] - 1s - loss: 42.1575\n",
      "Epoch 50/1000\n",
      "1/1 [==============================] - 1s - loss: 42.1112\n",
      "Epoch 51/1000\n",
      "1/1 [==============================] - 1s - loss: 42.1056\n",
      "Epoch 52/1000\n",
      "1/1 [==============================] - 1s - loss: 42.1463\n",
      "Epoch 53/1000\n",
      "1/1 [==============================] - 1s - loss: 42.0904\n",
      "Epoch 54/1000\n",
      "1/1 [==============================] - 1s - loss: 41.9120\n",
      "Epoch 55/1000\n",
      "1/1 [==============================] - 1s - loss: 41.5263\n",
      "Epoch 56/1000\n",
      "1/1 [==============================] - 1s - loss: 42.6995\n",
      "Epoch 57/1000\n",
      "1/1 [==============================] - 1s - loss: 41.8941\n",
      "Epoch 58/1000\n",
      "1/1 [==============================] - 1s - loss: 43.8450\n",
      "Epoch 59/1000\n",
      "1/1 [==============================] - 1s - loss: 42.1740\n",
      "Epoch 60/1000\n",
      "1/1 [==============================] - 1s - loss: 42.1734\n",
      "Epoch 61/1000\n",
      "1/1 [==============================] - 1s - loss: 42.1727\n",
      "Epoch 62/1000\n",
      "1/1 [==============================] - 1s - loss: 42.1717\n",
      "Epoch 63/1000\n",
      "1/1 [==============================] - 1s - loss: 42.1704\n",
      "Epoch 64/1000\n",
      "1/1 [==============================] - 1s - loss: 42.1688\n",
      "Epoch 65/1000\n",
      "1/1 [==============================] - 1s - loss: 42.1665\n",
      "Epoch 66/1000\n",
      "1/1 [==============================] - 1s - loss: 42.1633\n",
      "Epoch 67/1000\n",
      "1/1 [==============================] - 1s - loss: 42.1588\n",
      "Epoch 68/1000\n",
      "1/1 [==============================] - 1s - loss: 42.1524\n",
      "Epoch 69/1000\n",
      "1/1 [==============================] - 1s - loss: 42.1423\n",
      "Epoch 70/1000\n",
      "1/1 [==============================] - 1s - loss: 42.1279\n",
      "Epoch 71/1000\n",
      "1/1 [==============================] - 1s - loss: 42.1078\n",
      "Epoch 72/1000\n",
      "1/1 [==============================] - 1s - loss: 42.0775\n",
      "Epoch 73/1000\n",
      "1/1 [==============================] - 1s - loss: 42.0331\n",
      "Epoch 74/1000\n",
      "1/1 [==============================] - 1s - loss: 41.9866\n",
      "Epoch 75/1000\n",
      "1/1 [==============================] - 1s - loss: 42.0374\n",
      "Epoch 76/1000\n",
      "1/1 [==============================] - 1s - loss: 42.1768\n",
      "Epoch 77/1000\n",
      "1/1 [==============================] - 1s - loss: 42.1718\n",
      "Epoch 78/1000\n",
      "1/1 [==============================] - 1s - loss: 42.1448\n",
      "Epoch 79/1000\n",
      "1/1 [==============================] - 1s - loss: 42.0600\n",
      "Epoch 80/1000\n",
      "1/1 [==============================] - 1s - loss: 41.9352\n",
      "Epoch 81/1000\n",
      "1/1 [==============================] - 1s - loss: 41.7149\n",
      "Epoch 82/1000\n",
      "1/1 [==============================] - 1s - loss: 41.4509\n",
      "Epoch 83/1000\n",
      "1/1 [==============================] - 1s - loss: 41.5634\n",
      "Epoch 84/1000\n"
     ]
    }
   ],
   "source": [
    "model.fit(x=X, \n",
    "\ty=Y,\n",
    "\tbatch_size=1,\n",
    "\tepochs=1000)"
   ]
  },
  {
   "cell_type": "code",
   "execution_count": null,
   "metadata": {},
   "outputs": [],
   "source": [
    "print(model.evaluate(X, Y, batch_size=1))\n",
    "output = model.predict(X)\n",
    "#plt.imshow(X, cmap='gray')\n",
    "#plt.show()\n",
    "#output.shape"
   ]
  },
  {
   "cell_type": "code",
   "execution_count": null,
   "metadata": {},
   "outputs": [],
   "source": [
    "print(model.evaluate(X, Y, batch_size=1))\n",
    "output = model.predict(X)\n",
    "\n",
    "# Output colorizations\n",
    "cur = np.zeros((300, 300, 3))\n",
    "cur[:,:,0] = X[0][:,:,0]\n",
    "cur[:,:,1:] = output[0]\n",
    "imsave(\"img_color.png\", lab2rgb(cur))\n",
    "imsave(\"img_gray.png\", rgb2gray(lab2rgb(cur)))"
   ]
  },
  {
   "cell_type": "code",
   "execution_count": null,
   "metadata": {
    "collapsed": true
   },
   "outputs": [],
   "source": [
    "#plt.imshow(X, cmap='gray')\n",
    "#plt.show()"
   ]
  },
  {
   "cell_type": "code",
   "execution_count": null,
   "metadata": {
    "collapsed": true
   },
   "outputs": [],
   "source": []
  },
  {
   "cell_type": "code",
   "execution_count": null,
   "metadata": {
    "collapsed": true
   },
   "outputs": [],
   "source": []
  }
 ],
 "metadata": {
  "kernelspec": {
   "display_name": "DC_one_stack",
   "language": "python",
   "name": "stack"
  },
  "language_info": {
   "codemirror_mode": {
    "name": "ipython",
    "version": 3
   },
   "file_extension": ".py",
   "mimetype": "text/x-python",
   "name": "python",
   "nbconvert_exporter": "python",
   "pygments_lexer": "ipython3",
   "version": "3.6.1"
  }
 },
 "nbformat": 4,
 "nbformat_minor": 2
}
