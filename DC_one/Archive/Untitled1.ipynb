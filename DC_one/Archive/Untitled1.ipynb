{
 "cells": [
  {
   "cell_type": "code",
   "execution_count": null,
   "metadata": {
    "collapsed": true
   },
   "outputs": [],
   "source": [
    "Loss: \n",
    "# conv_stack(16, 1, [1, 1])\n",
    "# conv_stack(8, 2, [1, 1, 1])\n",
    "# conv_stack(2, 1, [1])\n",
    "\n",
    "Loss: \n",
    "# conv_stack(8, 1, [1, 1])\n",
    "# conv_stack(4, 1, [1, 1, 1])\n",
    "# conv_stack(2, 1, [1, 1])\n",
    "\n",
    "\n",
    "\n",
    "\n",
    "def conv_stack(filters, d, strides):\n",
    "    for i in strides:\n",
    "        model.add(Conv2D(filters, (3, 3), strides=i, activation='relu', dilation_rate=d, padding='same'))\n",
    "        model.add(BatchNormalization())\n",
    "        model.add(Dense(i))\n",
    "\n",
    "# def upsampling_stack(filters):\n",
    "#     for i in filters:\n",
    "#         model.add(Conv2DTranspose(i, (3, 3), strides=(2, 2), activation='relu', padding='same'))\n",
    "#         conv_stack(i, 1, [1, 1])\n",
    "#         model.add(Dense(i))\n",
    "#         model.add(BatchNormalization())\n",
    "        \n",
    "model = Sequential()\n",
    "model.add(InputLayer(input_shape=(None, None, 1)))\n",
    "\n",
    "conv_stack(8, 1, [1, 1])\n",
    "conv_stack(4, 1, [1, 1, 1])\n",
    "model.add(Conv2D(2, (3, 3), activation='relu', padding='same'))\n",
    "\n",
    "\n",
    "\n",
    "\n",
    "model = Sequential()\n",
    "model.add(InputLayer(input_shape=(None, None, 1)))\n",
    "\n",
    "conv_stack(500, 1, [1, 1, 1])\n",
    "model.add(Dense(100))\n",
    "model.add(Dense(50))\n",
    "model.add(Dense(10))\n",
    "model.add(Conv2D(2, (5, 5), activation='relu', padding='same'))"
   ]
  }
 ],
 "metadata": {
  "kernelspec": {
   "display_name": "DC_one_stack",
   "language": "python",
   "name": "stack"
  },
  "language_info": {
   "codemirror_mode": {
    "name": "ipython",
    "version": 3
   },
   "file_extension": ".py",
   "mimetype": "text/x-python",
   "name": "python",
   "nbconvert_exporter": "python",
   "pygments_lexer": "ipython3",
   "version": "3.6.1"
  }
 },
 "nbformat": 4,
 "nbformat_minor": 2
}
