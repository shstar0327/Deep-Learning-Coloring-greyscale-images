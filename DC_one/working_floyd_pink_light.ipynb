{
 "cells": [
  {
   "cell_type": "code",
   "execution_count": 1,
   "metadata": {},
   "outputs": [
    {
     "name": "stderr",
     "output_type": "stream",
     "text": [
      "Using TensorFlow backend.\n"
     ]
    }
   ],
   "source": [
    "from keras.layers import Conv2D, UpSampling2D, InputLayer, Conv2DTranspose\n",
    "from keras.layers import Activation, Dense, Dropout, Flatten\n",
    "from keras.layers.normalization import BatchNormalization\n",
    "from keras.models import Sequential\n",
    "from keras.preprocessing.image import ImageDataGenerator, array_to_img, img_to_array, load_img\n",
    "from skimage.color import rgb2lab, lab2rgb, rgb2gray, xyz2lab\n",
    "from skimage.io import imsave\n",
    "import numpy as np\n",
    "import os\n",
    "import random\n",
    "import tensorflow as tf\n",
    "%matplotlib inline\n",
    "\n",
    "#np.set_printoptions(threshold=np.inf)\n",
    "\n",
    "import matplotlib\n",
    "import matplotlib.pyplot as plt"
   ]
  },
  {
   "cell_type": "code",
   "execution_count": 2,
   "metadata": {
    "collapsed": true
   },
   "outputs": [],
   "source": [
    "# Get images\n",
    "image = img_to_array(load_img('snake.jpg'))\n",
    "image = np.array(image, dtype=float)"
   ]
  },
  {
   "cell_type": "code",
   "execution_count": 3,
   "metadata": {
    "collapsed": true
   },
   "outputs": [],
   "source": [
    "X = rgb2lab(1.0/255*image)[:,:,0]\n",
    "Y = rgb2lab(1.0/255*image)[:,:,1:]\n",
    "X = X.reshape(1, 300, 300, 1)\n",
    "Y = Y.reshape(1, 300, 300, 2)"
   ]
  },
  {
   "cell_type": "code",
   "execution_count": 4,
   "metadata": {
    "collapsed": true
   },
   "outputs": [],
   "source": [
    "def conv_stack(filters, d, strides):\n",
    "    for i in strides:\n",
    "        model.add(Conv2D(filters, (3, 3), strides=i, activation='relu', dilation_rate=d, padding='same'))\n",
    "\n",
    "def upsampling_stack(filters):\n",
    "    for i in filters:\n",
    "        model.add(Conv2DTranspose(i, (3, 3), strides=(2, 2), activation='relu', padding='same'))\n",
    "        conv_stack(i, 1, [1, 1])\n",
    "        \n",
    "model = Sequential()\n",
    "model.add(InputLayer(input_shape=(None, None, 1)))\n",
    "\n",
    "conv_stack(32, 1, [1, 1, 1])\n",
    "conv_stack(16, 2, [1, 1, 1])\n",
    "conv_stack(2, 1, [1])\n",
    "\n",
    "\n",
    "\n",
    "#upsampling_stack([16, 8, 4])"
   ]
  },
  {
   "cell_type": "code",
   "execution_count": null,
   "metadata": {
    "collapsed": true
   },
   "outputs": [],
   "source": [
    "# Finish model\n",
    "model.compile(optimizer='rmsprop',\n",
    "\t\t\tloss='mse')"
   ]
  },
  {
   "cell_type": "code",
   "execution_count": null,
   "metadata": {},
   "outputs": [
    {
     "name": "stdout",
     "output_type": "stream",
     "text": [
      "Epoch 1/1000\n",
      "1/1 [==============================] - 1s - loss: 583.3109\n",
      "Epoch 2/1000\n",
      "1/1 [==============================] - 0s - loss: 572.3889\n",
      "Epoch 3/1000\n",
      "1/1 [==============================] - 0s - loss: 570.3608\n",
      "Epoch 4/1000\n",
      "1/1 [==============================] - 0s - loss: 570.3734\n",
      "Epoch 5/1000\n",
      "1/1 [==============================] - 0s - loss: 570.4590\n",
      "Epoch 6/1000\n",
      "1/1 [==============================] - 0s - loss: 570.3966\n",
      "Epoch 7/1000\n",
      "1/1 [==============================] - 0s - loss: 570.2003\n",
      "Epoch 8/1000\n",
      "1/1 [==============================] - 0s - loss: 566.7885\n",
      "Epoch 9/1000\n",
      "1/1 [==============================] - 0s - loss: 570.9918\n",
      "Epoch 10/1000\n"
     ]
    }
   ],
   "source": [
    "model.fit(x=X, \n",
    "\ty=Y,\n",
    "\tbatch_size=1,\n",
    "\tepochs=1000)"
   ]
  },
  {
   "cell_type": "code",
   "execution_count": null,
   "metadata": {},
   "outputs": [],
   "source": [
    "print(model.evaluate(X, Y, batch_size=1))\n",
    "output = model.predict(X)\n",
    "#plt.imshow(X, cmap='gray')\n",
    "#plt.show()\n",
    "#output.shape"
   ]
  },
  {
   "cell_type": "code",
   "execution_count": null,
   "metadata": {},
   "outputs": [],
   "source": [
    "print(model.evaluate(X, Y, batch_size=1))\n",
    "output = model.predict(X)\n",
    "\n",
    "# Output colorizations\n",
    "cur = np.zeros((300, 300, 3))\n",
    "cur[:,:,0] = X[0][:,:,0]\n",
    "cur[:,:,1:] = output[0]\n",
    "imsave(\"img_trippy.png\", lab2rgb(cur))\n",
    "imsave(\"img_gray.png\", rgb2gray(lab2rgb(cur)))"
   ]
  },
  {
   "cell_type": "code",
   "execution_count": null,
   "metadata": {
    "collapsed": true
   },
   "outputs": [],
   "source": [
    "#plt.imshow(X, cmap='gray')\n",
    "#plt.show()"
   ]
  },
  {
   "cell_type": "code",
   "execution_count": null,
   "metadata": {
    "collapsed": true
   },
   "outputs": [],
   "source": []
  },
  {
   "cell_type": "code",
   "execution_count": null,
   "metadata": {
    "collapsed": true
   },
   "outputs": [],
   "source": []
  }
 ],
 "metadata": {
  "kernelspec": {
   "display_name": "DC_one_stack",
   "language": "python",
   "name": "stack"
  },
  "language_info": {
   "codemirror_mode": {
    "name": "ipython",
    "version": 3
   },
   "file_extension": ".py",
   "mimetype": "text/x-python",
   "name": "python",
   "nbconvert_exporter": "python",
   "pygments_lexer": "ipython3",
   "version": "3.6.1"
  }
 },
 "nbformat": 4,
 "nbformat_minor": 2
}
