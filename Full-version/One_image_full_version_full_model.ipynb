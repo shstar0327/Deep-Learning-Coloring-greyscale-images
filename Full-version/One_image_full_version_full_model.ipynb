{
 "cells": [
  {
   "cell_type": "code",
   "execution_count": null,
   "metadata": {},
   "outputs": [],
   "source": [
    "import keras\n",
    "from keras.applications.inception_resnet_v2 import InceptionResNetV2\n",
    "from keras.preprocessing import image\n",
    "from keras.engine import Layer\n",
    "from keras.applications.inception_resnet_v2 import preprocess_input\n",
    "from keras.layers import Conv2D, UpSampling2D, InputLayer, Conv2DTranspose\n",
    "from keras.layers import Activation, Dense, Dropout, Flatten\n",
    "from keras.layers.normalization import BatchNormalization\n",
    "from keras.models import Sequential\n",
    "from keras.layers.core import RepeatVector, Permute\n",
    "from keras.preprocessing.image import ImageDataGenerator, array_to_img, img_to_array, load_img\n",
    "from skimage.color import rgb2lab, lab2rgb, rgb2gray, xyz2lab\n",
    "from skimage.io import imsave\n",
    "import numpy as np\n",
    "import numpy as np\n",
    "import os\n",
    "import random\n",
    "import tensorflow as tf"
   ]
  },
  {
   "cell_type": "code",
   "execution_count": null,
   "metadata": {},
   "outputs": [],
   "source": [
    "# Get images\n",
    "image_raw = img_to_array(load_img('dog.jpg'))\n",
    "image_raw = np.array(image_raw, dtype=float)\n",
    "#Load weights\n",
    "inception = InceptionResNetV2(weights='imagenet', include_top=False)"
   ]
  },
  {
   "cell_type": "code",
   "execution_count": null,
   "metadata": {},
   "outputs": [],
   "source": [
    "X = rgb2lab(1.0/255*image_raw)[:,:,0]\n",
    "Y = rgb2lab(1.0/255*image_raw)[:,:,1:]\n",
    "Y /= 128\n",
    "X = X.reshape(1, 256, 256, 1)\n",
    "Y = Y.reshape(1, 256, 256, 2)"
   ]
  },
  {
   "cell_type": "code",
   "execution_count": null,
   "metadata": {},
   "outputs": [],
   "source": [
    "def conv_stack(model, filters, strides):\n",
    "    for i in strides:\n",
    "        model.add(Conv2D(filters, (3, 3), strides=i, activation='relu', padding='same'))\n",
    "        model.add(BatchNormalization())\n",
    "\n",
    "#Add inception embedding\n",
    "img_path = 'dog.jpg'\n",
    "img = image.load_img(img_path, target_size=(299, 299))\n",
    "img = image.img_to_array(img)\n",
    "img = np.expand_dims(img, axis=0)\n",
    "img = preprocess_input(img)\n",
    "embed = inception.predict(img)\n",
    "\n",
    "#Encoder\n",
    "encoder = Sequential() \n",
    "encoder.add(InputLayer(input_shape=(None, None, 1)))\n",
    "conv_stack(encoder, 64, [2])(input1)\n",
    "conv_stack(encoder, 128, [1, 2])\n",
    "conv_stack(encoder, 256, [1, 2])\n",
    "conv_stack(encoder, 512, [1, 1])\n",
    "conv_stack(encoder, 256, [1])\n",
    "conv_stack(encoder, 128, [1])\n",
    "\n",
    "#Fusion\n",
    "# y_mid: (None, 256, 28, 28)\n",
    "fusion = Sequential() \n",
    "fusion.add(InputLayer(input_shape=(32, 32, 1)))(input1)\n",
    "fusion.add(RepeatVector(28 * 28)) # shape: (None, 28*28, 256)\n",
    "fusion.add(Permute((2, 1))) # shape: (None, 256, 28*28)\n",
    "fusion.add(Reshape(256, 28, 28)) # shape: (None, 256, 28, 28)\n",
    "y_concat = Merge(layers=[fusion, encoder], mode='concat', concat_axis=1) # (None, 512, 28, 28)\n",
    "fusion_output = Conv2D(256, 1, 1, activation='relu')(y_concat) # (None, 256, 28, 28) and Eq. (5)\n",
    "\n",
    "#Decoder\n",
    "decoder = Sequential() \n",
    "decoder.add(InputLayer(input_shape=(fusion_output.shape)))\n",
    "decoder.add(UpSampling2D((2, 2)))(fusion_output)\n",
    "conv_stack(decoder, 64, [1, 1])\n",
    "decoder.add(UpSampling2D((2, 2)))\n",
    "conv_stack(decoder, 32, [1])\n",
    "decoder.add(Conv2D(2, (3, 3), activation='tanh'))\n",
    "decoder.add(UpSampling2D((2, 2)))\n",
    "\n",
    "model = Model(inputs=[input1, input1], outputs=decoder)"
   ]
  },
  {
   "cell_type": "code",
   "execution_count": null,
   "metadata": {},
   "outputs": [],
   "source": [
    "# Finish model\n",
    "model.compile(optimizer='rmsprop', loss='mse')\n",
    "model.fit(input1=X, \n",
    "    input2 = embed,\n",
    "    y=Y,\n",
    "    batch_size=1,\n",
    "    epochs=1000)"
   ]
  },
  {
   "cell_type": "code",
   "execution_count": null,
   "metadata": {},
   "outputs": [],
   "source": [
    "print(decoder.evaluate(X, Y, batch_size=1))\n",
    "output = decoder.predict(X)\n",
    "output *= 128\n",
    "# Output colorizations\n",
    "cur = np.zeros((300, 300, 3))\n",
    "cur[:,:,0] = X[0][:,:,0]\n",
    "cur[:,:,1:] = output[0]\n",
    "imsave(\"img_result.png\", lab2rgb(cur))\n",
    "imsave(\"img_gray_version.png\", rgb2gray(lab2rgb(cur)))"
   ]
  },
  {
   "cell_type": "code",
   "execution_count": null,
   "metadata": {
    "collapsed": true
   },
   "outputs": [],
   "source": []
  },
  {
   "cell_type": "code",
   "execution_count": null,
   "metadata": {
    "collapsed": true
   },
   "outputs": [],
   "source": []
  },
  {
   "cell_type": "code",
   "execution_count": null,
   "metadata": {
    "collapsed": true
   },
   "outputs": [],
   "source": []
  }
 ],
 "metadata": {
  "kernelspec": {
   "display_name": "Python 3",
   "language": "python",
   "name": "python3"
  },
  "language_info": {
   "codemirror_mode": {
    "name": "ipython",
    "version": 3
   },
   "file_extension": ".py",
   "mimetype": "text/x-python",
   "name": "python",
   "nbconvert_exporter": "python",
   "pygments_lexer": "ipython3",
   "version": "3.6.1"
  }
 },
 "nbformat": 4,
 "nbformat_minor": 2
}
