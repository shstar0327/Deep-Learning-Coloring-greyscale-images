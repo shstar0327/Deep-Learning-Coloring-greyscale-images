{
 "cells": [
  {
   "cell_type": "code",
   "execution_count": null,
   "metadata": {},
   "outputs": [],
   "source": [
    "import tensorflow as tf\n",
    "slim = tf.contrib.slim\n",
    "from PIL import Image\n",
    "from inception_resnet_v2 import *\n",
    "import numpy as np\n",
    "\n",
    "checkpoint_file = \"inception_resnet_v2_2016_08_30.ckpt\"\n",
    "sample_images = ['dog.jpg', 'panda.jpg']\n",
    "\n",
    "input_tensor = tf.placeholder(tf.float32, shape=(None,299,299,3), name='input_image')\n",
    "scaled_input_tensor = tf.scalar_mul((1.0/255), input_tensor)\n",
    "scaled_input_tensor = tf.subtract(scaled_input_tensor, 0.5)\n",
    "scaled_input_tensor = tf.multiply(scaled_input_tensor, 2.0)\n",
    "\n",
    "#Load the model\n",
    "sess = tf.Session()\n",
    "sess.run([tf.global_variables_initializer(), tf.local_variables_initializer()])\n",
    "arg_scope = inception_resnet_v2_arg_scope()\n",
    "# with slim.arg_scope(arg_scope):\n",
    "#     logits, end_points = inception_resnet_v2(scaled_input_tensor, is_training=False)\n",
    "with slim.arg_scope(inception_resnet_v2_arg_scope()):\n",
    "            input_embedding, _ = inception_resnet_v2(scaled_input_tensor,\n",
    "                                                     is_training=False)\n",
    "saver = tf.train.Saver()\n",
    "saver.restore(sess, checkpoint_file)\n",
    "for image in sample_images:\n",
    "    im = Image.open(image).resize((299,299))\n",
    "    im = np.array(im)\n",
    "    im = im.reshape(-1,299,299,3)\n",
    "    results = []\n",
    "    sess.run(results, feed_dict={input_tensor: im})\n",
    "    #predict_values, logit_values = sess.run([end_points['Predictions'], logits], feed_dict={input_tensor: im})\n",
    "    print(results)"
   ]
  },
  {
   "cell_type": "code",
   "execution_count": null,
   "metadata": {
    "collapsed": true
   },
   "outputs": [],
   "source": []
  }
 ],
 "metadata": {
  "kernelspec": {
   "display_name": "Python 3",
   "language": "python",
   "name": "python3"
  },
  "language_info": {
   "codemirror_mode": {
    "name": "ipython",
    "version": 3
   },
   "file_extension": ".py",
   "mimetype": "text/x-python",
   "name": "python",
   "nbconvert_exporter": "python",
   "pygments_lexer": "ipython3",
   "version": "3.6.1"
  }
 },
 "nbformat": 4,
 "nbformat_minor": 2
}
